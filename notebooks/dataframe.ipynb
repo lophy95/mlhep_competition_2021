{
 "cells": [
  {
   "cell_type": "code",
   "execution_count": 1,
   "metadata": {
    "collapsed": false
   },
   "outputs": [
   ],
   "source": [
    "import pandas as pd"
   ]
  },
  {
   "cell_type": "code",
   "execution_count": 2,
   "metadata": {
    "collapsed": false
   },
   "outputs": [
   ],
   "source": [
    "df_classification = pd.read_csv('/home/user/mlhep2021/competitions/mlhep-2021-baseline/submission_classification.csv.gz', compression='gzip', \n",
    "                                 header=0, sep=',', quotechar='\"')"
   ]
  },
  {
   "cell_type": "code",
   "execution_count": 3,
   "metadata": {
    "collapsed": false
   },
   "outputs": [
    {
     "data": {
      "text/html": [
       "<div>\n",
       "<style scoped>\n",
       "    .dataframe tbody tr th:only-of-type {\n",
       "        vertical-align: middle;\n",
       "    }\n",
       "\n",
       "    .dataframe tbody tr th {\n",
       "        vertical-align: top;\n",
       "    }\n",
       "\n",
       "    .dataframe thead th {\n",
       "        text-align: right;\n",
       "    }\n",
       "</style>\n",
       "<table border=\"1\" class=\"dataframe\">\n",
       "  <thead>\n",
       "    <tr style=\"text-align: right;\">\n",
       "      <th></th>\n",
       "      <th>id</th>\n",
       "      <th>particle</th>\n",
       "    </tr>\n",
       "  </thead>\n",
       "  <tbody>\n",
       "    <tr>\n",
       "      <th>0</th>\n",
       "      <td>5e1512499f743663ce899d5cd22beedcc8c002f4</td>\n",
       "      <td>0.000126</td>\n",
       "    </tr>\n",
       "    <tr>\n",
       "      <th>1</th>\n",
       "      <td>4283a219202cb4bee5c97ba9960e7fc656a4e976</td>\n",
       "      <td>0.000528</td>\n",
       "    </tr>\n",
       "    <tr>\n",
       "      <th>2</th>\n",
       "      <td>727751c123799e86aaaa2bdf2dc4e8b1ddc1cc4b</td>\n",
       "      <td>0.030216</td>\n",
       "    </tr>\n",
       "    <tr>\n",
       "      <th>3</th>\n",
       "      <td>64eddfb872da6258e528a6d67fd5b96f57c6213c</td>\n",
       "      <td>0.005365</td>\n",
       "    </tr>\n",
       "    <tr>\n",
       "      <th>4</th>\n",
       "      <td>824de090c3b3de561fe6c48d839455c4f29f8aa3</td>\n",
       "      <td>0.034894</td>\n",
       "    </tr>\n",
       "    <tr>\n",
       "      <th>5</th>\n",
       "      <td>a8163dca7c1b008a64d8e9a71d771de4ad16708c</td>\n",
       "      <td>0.999987</td>\n",
       "    </tr>\n",
       "    <tr>\n",
       "      <th>6</th>\n",
       "      <td>7162ec9109df6bd7abdd6bf8ee1a45af02b1229f</td>\n",
       "      <td>0.000038</td>\n",
       "    </tr>\n",
       "    <tr>\n",
       "      <th>7</th>\n",
       "      <td>8cc9ed3da608898a6420fea515443e40f0abe182</td>\n",
       "      <td>0.631519</td>\n",
       "    </tr>\n",
       "    <tr>\n",
       "      <th>8</th>\n",
       "      <td>f5b5138a422750fe48c166a4d03b34cd3a36afee</td>\n",
       "      <td>0.000186</td>\n",
       "    </tr>\n",
       "    <tr>\n",
       "      <th>9</th>\n",
       "      <td>ac128a2b9146fa65ad084f322d9ef44897a79897</td>\n",
       "      <td>0.007840</td>\n",
       "    </tr>\n",
       "  </tbody>\n",
       "</table>\n",
       "</div>"
      ],
      "text/plain": [
       "                                         id  particle\n",
       "0  5e1512499f743663ce899d5cd22beedcc8c002f4  0.000126\n",
       "1  4283a219202cb4bee5c97ba9960e7fc656a4e976  0.000528\n",
       "2  727751c123799e86aaaa2bdf2dc4e8b1ddc1cc4b  0.030216\n",
       "3  64eddfb872da6258e528a6d67fd5b96f57c6213c  0.005365\n",
       "4  824de090c3b3de561fe6c48d839455c4f29f8aa3  0.034894\n",
       "5  a8163dca7c1b008a64d8e9a71d771de4ad16708c  0.999987\n",
       "6  7162ec9109df6bd7abdd6bf8ee1a45af02b1229f  0.000038\n",
       "7  8cc9ed3da608898a6420fea515443e40f0abe182  0.631519\n",
       "8  f5b5138a422750fe48c166a4d03b34cd3a36afee  0.000186\n",
       "9  ac128a2b9146fa65ad084f322d9ef44897a79897  0.007840"
      ]
     },
     "execution_count": 3,
     "metadata": {
     },
     "output_type": "execute_result"
    }
   ],
   "source": [
    "df_classification.head(10)\n"
   ]
  },
  {
   "cell_type": "code",
   "execution_count": 4,
   "metadata": {
    "collapsed": false
   },
   "outputs": [
   ],
   "source": [
    "df_classification.to_csv('submission_classification.csv',index=False)"
   ]
  },
  {
   "cell_type": "code",
   "execution_count": 5,
   "metadata": {
    "collapsed": false
   },
   "outputs": [
   ],
   "source": [
    "df_regression = pd.read_csv('/home/user/mlhep2021/competitions/mlhep-2021-baseline/submission_regression.csv.gz', compression='gzip', \n",
    "                                 header=0, sep=',', quotechar='\"')"
   ]
  },
  {
   "cell_type": "code",
   "execution_count": 6,
   "metadata": {
    "collapsed": false
   },
   "outputs": [
    {
     "data": {
      "text/html": [
       "<div>\n",
       "<style scoped>\n",
       "    .dataframe tbody tr th:only-of-type {\n",
       "        vertical-align: middle;\n",
       "    }\n",
       "\n",
       "    .dataframe tbody tr th {\n",
       "        vertical-align: top;\n",
       "    }\n",
       "\n",
       "    .dataframe thead th {\n",
       "        text-align: right;\n",
       "    }\n",
       "</style>\n",
       "<table border=\"1\" class=\"dataframe\">\n",
       "  <thead>\n",
       "    <tr style=\"text-align: right;\">\n",
       "      <th></th>\n",
       "      <th>id</th>\n",
       "      <th>energy</th>\n",
       "    </tr>\n",
       "  </thead>\n",
       "  <tbody>\n",
       "    <tr>\n",
       "      <th>0</th>\n",
       "      <td>5e1512499f743663ce899d5cd22beedcc8c002f4</td>\n",
       "      <td>15.159845</td>\n",
       "    </tr>\n",
       "    <tr>\n",
       "      <th>1</th>\n",
       "      <td>4283a219202cb4bee5c97ba9960e7fc656a4e976</td>\n",
       "      <td>12.432005</td>\n",
       "    </tr>\n",
       "    <tr>\n",
       "      <th>2</th>\n",
       "      <td>727751c123799e86aaaa2bdf2dc4e8b1ddc1cc4b</td>\n",
       "      <td>11.497149</td>\n",
       "    </tr>\n",
       "    <tr>\n",
       "      <th>3</th>\n",
       "      <td>64eddfb872da6258e528a6d67fd5b96f57c6213c</td>\n",
       "      <td>11.791517</td>\n",
       "    </tr>\n",
       "    <tr>\n",
       "      <th>4</th>\n",
       "      <td>824de090c3b3de561fe6c48d839455c4f29f8aa3</td>\n",
       "      <td>12.643312</td>\n",
       "    </tr>\n",
       "    <tr>\n",
       "      <th>5</th>\n",
       "      <td>a8163dca7c1b008a64d8e9a71d771de4ad16708c</td>\n",
       "      <td>14.245834</td>\n",
       "    </tr>\n",
       "    <tr>\n",
       "      <th>6</th>\n",
       "      <td>7162ec9109df6bd7abdd6bf8ee1a45af02b1229f</td>\n",
       "      <td>11.492125</td>\n",
       "    </tr>\n",
       "    <tr>\n",
       "      <th>7</th>\n",
       "      <td>8cc9ed3da608898a6420fea515443e40f0abe182</td>\n",
       "      <td>12.648657</td>\n",
       "    </tr>\n",
       "    <tr>\n",
       "      <th>8</th>\n",
       "      <td>f5b5138a422750fe48c166a4d03b34cd3a36afee</td>\n",
       "      <td>13.885872</td>\n",
       "    </tr>\n",
       "    <tr>\n",
       "      <th>9</th>\n",
       "      <td>ac128a2b9146fa65ad084f322d9ef44897a79897</td>\n",
       "      <td>13.394489</td>\n",
       "    </tr>\n",
       "  </tbody>\n",
       "</table>\n",
       "</div>"
      ],
      "text/plain": [
       "                                         id     energy\n",
       "0  5e1512499f743663ce899d5cd22beedcc8c002f4  15.159845\n",
       "1  4283a219202cb4bee5c97ba9960e7fc656a4e976  12.432005\n",
       "2  727751c123799e86aaaa2bdf2dc4e8b1ddc1cc4b  11.497149\n",
       "3  64eddfb872da6258e528a6d67fd5b96f57c6213c  11.791517\n",
       "4  824de090c3b3de561fe6c48d839455c4f29f8aa3  12.643312\n",
       "5  a8163dca7c1b008a64d8e9a71d771de4ad16708c  14.245834\n",
       "6  7162ec9109df6bd7abdd6bf8ee1a45af02b1229f  11.492125\n",
       "7  8cc9ed3da608898a6420fea515443e40f0abe182  12.648657\n",
       "8  f5b5138a422750fe48c166a4d03b34cd3a36afee  13.885872\n",
       "9  ac128a2b9146fa65ad084f322d9ef44897a79897  13.394489"
      ]
     },
     "execution_count": 6,
     "metadata": {
     },
     "output_type": "execute_result"
    }
   ],
   "source": [
    "df_regression.head(10)\n"
   ]
  },
  {
   "cell_type": "code",
   "execution_count": 7,
   "metadata": {
    "collapsed": false
   },
   "outputs": [
   ],
   "source": [
    "df_regression.to_csv('submission_regression.csv',index=False)"
   ]
  },
  {
   "cell_type": "code",
   "execution_count": 0,
   "metadata": {
    "collapsed": false
   },
   "outputs": [
   ],
   "source": [
   ]
  },
  {
   "cell_type": "code",
   "execution_count": 0,
   "metadata": {
    "collapsed": false
   },
   "outputs": [
   ],
   "source": [
   ]
  }
 ],
 "metadata": {
  "kernelspec": {
   "display_name": "Python 3",
   "language": "python",
   "name": "python3",
   "resource_dir": "/usr/local/share/jupyter/kernels/python3"
  },
  "language_info": {
   "codemirror_mode": {
    "name": "ipython",
    "version": 3
   },
   "file_extension": ".py",
   "mimetype": "text/x-python",
   "name": "python",
   "nbconvert_exporter": "python",
   "pygments_lexer": "ipython3",
   "version": "3.6.9"
  }
 },
 "nbformat": 4,
 "nbformat_minor": 4
}